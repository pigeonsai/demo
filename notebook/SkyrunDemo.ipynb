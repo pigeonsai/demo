{
 "cells": [
  {
   "cell_type": "markdown",
   "metadata": {},
   "source": [
    "#### Initialization"
   ]
  },
  {
   "cell_type": "code",
   "execution_count": null,
   "metadata": {},
   "outputs": [],
   "source": [
    "%pip install httpx"
   ]
  },
  {
   "cell_type": "code",
   "execution_count": null,
   "metadata": {},
   "outputs": [],
   "source": [
    "import sys\n",
    "sys.path.append('../python/src')\n",
    "\n",
    "from pigeonsai import PigeonsAI\n",
    "client = PigeonsAI(api_key='psk-3e2ba6b301bc448b911f75d351e902ec')"
   ]
  },
  {
   "cell_type": "markdown",
   "metadata": {},
   "source": [
    "#### Step 1 - Data preparation"
   ]
  },
  {
   "cell_type": "markdown",
   "metadata": {},
   "source": [
    "Option 1: data connection"
   ]
  },
  {
   "cell_type": "code",
   "execution_count": null,
   "metadata": {},
   "outputs": [],
   "source": [
    "res = client.data_connector.create_connector(\n",
    "    connection_name=\"data_connection_2\",\n",
    "    connection_type=\"postgres\",\n",
    "    db_host='training.crg3mfkamsv8.us-east-2.rds.amazonaws.com',\n",
    "    db_name=\"training\",\n",
    "    db_username=\"postgres\",\n",
    "    db_password=\"default_password\",\n",
    "    db_port=5432\n",
    ")\n",
    "\n",
    "res"
   ]
  },
  {
   "cell_type": "code",
   "execution_count": null,
   "metadata": {},
   "outputs": [],
   "source": [
    "client.data_connector.create_train_set(\n",
    "    type='connection',\n",
    "    train_set_name='train_dataset_3',\n",
    "    data_connection_pri='pri:data-connector:biraj_pigeonsai.com:70d2ad1a-35b0-4a39-996b-882567897338',\n",
    "    table_name='rec-test-1',\n",
    ")"
   ]
  },
  {
   "cell_type": "markdown",
   "metadata": {},
   "source": [
    "Option 2: upload file"
   ]
  },
  {
   "cell_type": "code",
   "execution_count": null,
   "metadata": {},
   "outputs": [],
   "source": [
    "client.data_connector.create_train_set(\n",
    "    type='file',\n",
    "    train_set_name='dataset92816',\n",
    "    file_path='/home/bs/aaProjects/sdk/demo/rec_proxyrca_data.csv',\n",
    ")"
   ]
  },
  {
   "cell_type": "markdown",
   "metadata": {},
   "source": [
    "#### Step 2 - Train model"
   ]
  },
  {
   "cell_type": "code",
   "execution_count": null,
   "metadata": {},
   "outputs": [],
   "source": [
    "params = {\n",
    "    'model_architecture': 'transformer',\n",
    "    'custom_model_name': 'model-7',\n",
    "    'train_set_pri': 'pri:data-source:biraj_pigeonsai.com:25a60198-b976-4ee6-8279-4a600c1a43f2',\n",
    "    'n_epochs': '1',\n",
    "    'batch_size': '100',\n",
    "    'learn_rate': '1e-3',\n",
    "}\n",
    "\n",
    "res = client.recommender.vae.train(**params)\n",
    "print(res)"
   ]
  },
  {
   "cell_type": "markdown",
   "metadata": {},
   "source": [
    "#### Step 3 - Inference"
   ]
  },
  {
   "cell_type": "code",
   "execution_count": null,
   "metadata": {},
   "outputs": [],
   "source": [
    "user_history = \"A3NHUQ33CFH3VM\"\n",
    "res = client.recommender.vae.inference(\n",
    "    user_history_ids=user_history,\n",
    "    k=5,\n",
    "    model_uri='http://model-7-g1qtpheu.apps.api1.pigeonsai.cloud'\n",
    ")\n",
    "print(len(res))\n",
    "print(res)"
   ]
  },
  {
   "cell_type": "markdown",
   "metadata": {},
   "source": [
    "Other methods"
   ]
  },
  {
   "cell_type": "code",
   "execution_count": null,
   "metadata": {},
   "outputs": [],
   "source": [
    "res = client.recommender.vae.retrain(\n",
    "    unique_identifier=\"model-11361-dpgoxdae\",\n",
    "    automatic_data_revision=True,\n",
    ")\n",
    "\n",
    "print(res)"
   ]
  },
  {
   "cell_type": "code",
   "execution_count": null,
   "metadata": {},
   "outputs": [],
   "source": [
    "client.data_connector.revision_train_set_with_file(\n",
    "    data_source_pri='pri:data-source:biraj_pigeonsai.com:03445d93-96d9-4790-b6ad-3dbcfee63bfb',\n",
    "    file_path=\"/home/bs/aaProjects/sdk/demo/user_product_purchases.csv\",\n",
    ")"
   ]
  },
  {
   "cell_type": "code",
   "execution_count": null,
   "metadata": {},
   "outputs": [],
   "source": [
    "client.data_connector.revision_train_set_with_connector(\n",
    "    train_set_pri='pri:data-source:biraj_pigeonsai.com:a4582687-abea-432b-8302-ed7e9068e395',\n",
    "    table_name='tomo-test',\n",
    ")"
   ]
  },
  {
   "cell_type": "code",
   "execution_count": null,
   "metadata": {},
   "outputs": [],
   "source": [
    "client.data_connector.delete_train_set(\n",
    "    data_source_pri='pri:data-source:biraj_pigeonsai.com:a4582687-abea-432b-8302-ed7e9068e395',\n",
    ")"
   ]
  },
  {
   "cell_type": "code",
   "execution_count": null,
   "metadata": {},
   "outputs": [],
   "source": [
    "client.data_connector.delete_data_connector(\n",
    "    data_connector_pri='pri:data-connector:biraj_pigeonsai.com:45430852-81d1-4142-b04d-329af480b03b',\n",
    ")"
   ]
  }
 ],
 "metadata": {
  "kernelspec": {
   "display_name": "base",
   "language": "python",
   "name": "python3"
  },
  "language_info": {
   "codemirror_mode": {
    "name": "ipython",
    "version": 3
   },
   "file_extension": ".py",
   "mimetype": "text/x-python",
   "name": "python",
   "nbconvert_exporter": "python",
   "pygments_lexer": "ipython3",
   "version": "3.10.12"
  }
 },
 "nbformat": 4,
 "nbformat_minor": 2
}
