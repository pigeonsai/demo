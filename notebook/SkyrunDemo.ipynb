{
 "cells": [
  {
   "cell_type": "markdown",
   "metadata": {},
   "source": [
    "### Initialization"
   ]
  },
  {
   "cell_type": "code",
   "execution_count": 1,
   "metadata": {},
   "outputs": [],
   "source": [
    "import sys\n",
    "sys.path.append('../python/src')\n",
    "\n",
    "from pigeonsai import PigeonsAI\n",
    "client = PigeonsAI(api_key='psk-3e2ba6b301bc448b911f75d351e902ec')"
   ]
  },
  {
   "cell_type": "markdown",
   "metadata": {},
   "source": [
    "### Step 1 - Data preparation"
   ]
  },
  {
   "cell_type": "markdown",
   "metadata": {},
   "source": [
    "Option 1: data connection"
   ]
  },
  {
   "cell_type": "code",
   "execution_count": 2,
   "metadata": {},
   "outputs": [
    {
     "name": "stdout",
     "output_type": "stream",
     "text": [
      "\u001b[38;2;85;87;93m Connector creation successful:\u001b[0m \u001b[92m201 Created\u001b[0m\n",
      "\u001b[38;2;85;87;93m Data connector URI:\u001b[0m \u001b[92muri:data-connector:biraj_pigeonsai.com:e49b484f-9165-4241-bb79-c378d4c2a643\u001b[0m\n"
     ]
    }
   ],
   "source": [
    "res = client.data_connector.create_connector(\n",
    "    connection_name=\"conn15\",\n",
    "    connection_type=\"postgres\",\n",
    "    db_host='training.crg3mfkamsv8.us-east-2.rds.amazonaws.com',\n",
    "    db_name=\"training\",\n",
    "    db_username=\"postgres\",\n",
    "    db_password=\"default_password\",\n",
    "    db_port=5432\n",
    ")"
   ]
  },
  {
   "cell_type": "code",
   "execution_count": 2,
   "metadata": {},
   "outputs": [
    {
     "name": "stdout",
     "output_type": "stream",
     "text": [
      "\u001b[38;2;85;87;93m Train set creation successful:\u001b[0m \u001b[92m201 Created\u001b[0m\n",
      "\u001b[38;2;85;87;93m Train set URI:\u001b[0m \u001b[92muri:train-dataset:biraj_pigeonsai.com:2f9fe1a9-eba9-4f3e-b2ec-46f95b2328a9\u001b[0m\n"
     ]
    }
   ],
   "source": [
    "res = client.data_connector.create_train_set(\n",
    "    type='connection',\n",
    "    train_set_name='data36',\n",
    "    data_connection_uri='uri:data-connector:biraj_pigeonsai.com:e49b484f-9165-4241-bb79-c378d4c2a643',\n",
    "    table_name='rec-test-1',\n",
    "    columns_map={\n",
    "        'user_id': 'my_user_id',\n",
    "        'product_id': 'my_product_id',\n",
    "    }\n",
    ")"
   ]
  },
  {
   "cell_type": "markdown",
   "metadata": {},
   "source": [
    "Option 2: upload file"
   ]
  },
  {
   "cell_type": "code",
   "execution_count": null,
   "metadata": {},
   "outputs": [],
   "source": [
    "res = client.data_connector.create_train_set(\n",
    "    type='file',\n",
    "    train_set_name='dataset33',\n",
    "    file_path='/home/bs/aaProjects/sdk/demo/user_product_purchases.csv',\n",
    "    columns_map={\n",
    "        'user_id': 'my_user_id',\n",
    "        'product_id': 'my_product_id'\n",
    "    }\n",
    ")"
   ]
  },
  {
   "cell_type": "markdown",
   "metadata": {},
   "source": [
    "### Step 2 - Train model"
   ]
  },
  {
   "cell_type": "code",
   "execution_count": 3,
   "metadata": {},
   "outputs": [
    {
     "name": "stdout",
     "output_type": "stream",
     "text": [
      "\u001b[38;2;229;192;108m      Initializing test-model-20 training \u001b[0m\n",
      "\u001b[38;2;85;87;93m Training job creation successful.\u001b[0m\n",
      "\u001b[38;2;85;87;93m Unique Identifier:\u001b[0m \u001b[92mtest-model-20-80j8uyhg\u001b[0m\n",
      "\u001b[38;2;85;87;93m Endpoint:\u001b[0m \u001b[92mhttps://test-model-20-80j8uyhg.apps.api1.pigeonsai.cloud\u001b[0m\n",
      "\u001b[38;2;85;87;93m Message:\u001b[0m \u001b[92mModel is training. It could take a while.\u001b[0m\n"
     ]
    }
   ],
   "source": [
    "# autoencoder model\n",
    "training_params = {\n",
    "    'custom_model_name': 'test-model-20',\n",
    "    'train_set_uri': 'uri:train-dataset:biraj_pigeonsai.com:2f9fe1a9-eba9-4f3e-b2ec-46f95b2328a9',\n",
    "    'n_epochs': '1',\n",
    "    'batch_size': '100',\n",
    "    'learn_rate': '1e-3',\n",
    "    'data_subset_percent': '1',\n",
    "}\n",
    "\n",
    "res = client.recommender.vae.train(**training_params)"
   ]
  },
  {
   "cell_type": "markdown",
   "metadata": {},
   "source": [
    "#### Step 3 - Inference"
   ]
  },
  {
   "cell_type": "code",
   "execution_count": 4,
   "metadata": {},
   "outputs": [
    {
     "name": "stdout",
     "output_type": "stream",
     "text": [
      "{'recommendations': [{'id': '801194', 'score': 0.5}, {'id': '801204', 'score': 0.5}, {'id': '829928', 'score': 0.5}, {'id': '801192', 'score': 0.5}, {'id': '801196', 'score': 0.5}], 'message': 'None of the provided IDs were found in the map. Recommending popular items.'}\n"
     ]
    }
   ],
   "source": [
    "user_history = ['9834171', '9801194']\n",
    "res = client.recommender.vae.inference(\n",
    "    user_history_ids=user_history,\n",
    "    k=5,\n",
    "    model_uri='https://test-model-20-80j8uyhg.apps.api1.pigeonsai.cloud'\n",
    ")\n",
    "print(res)"
   ]
  },
  {
   "cell_type": "markdown",
   "metadata": {},
   "source": [
    "### Transformer"
   ]
  },
  {
   "cell_type": "code",
   "execution_count": null,
   "metadata": {},
   "outputs": [],
   "source": [
    "training_params = {\n",
    "    'custom_model_name': 'model5',\n",
    "    'train_set_uri': 'uri:train-dataset:biraj_pigeonsai.com:cebc0ccc-4a8f-4cb6-bb4d-0b6151675902',\n",
    "    'n_epochs': '1',\n",
    "    'batch_size': '100',\n",
    "    'learn_rate': '1e-3',\n",
    "}\n",
    "\n",
    "res = client.recommender.transformer.train(**training_params)"
   ]
  },
  {
   "cell_type": "code",
   "execution_count": null,
   "metadata": {},
   "outputs": [],
   "source": [
    "res = client.recommender.transformer.inference(\n",
    "    user_id=\"A3NHUQ33CFH3VM\",\n",
    "    k=5,\n",
    "    model_uri='https://model5-0foyi5hx.apps.api1.pigeonsai.cloud'\n",
    ")\n",
    "print(res)"
   ]
  },
  {
   "cell_type": "markdown",
   "metadata": {},
   "source": [
    "### Other methods"
   ]
  },
  {
   "cell_type": "code",
   "execution_count": null,
   "metadata": {},
   "outputs": [],
   "source": [
    "res = client.recommender.vae.retrain(\n",
    "    unique_identifier=\"test-model-12-gkf5lfrg\",\n",
    "    pull_latest_data=True,\n",
    ")"
   ]
  },
  {
   "cell_type": "code",
   "execution_count": null,
   "metadata": {},
   "outputs": [],
   "source": [
    "res = client.data_connector.revision_train_set_with_connector(\n",
    "    train_set_uri='uri:train-dataset:biraj_pigeonsai.com:e728a921-2d9c-4dae-9f5c-963a4c2cfb7f',\n",
    ")"
   ]
  },
  {
   "cell_type": "code",
   "execution_count": null,
   "metadata": {},
   "outputs": [],
   "source": [
    "client.data_connector.revision_train_set_with_file(\n",
    "    train_set_uri='uri:train-dataset:biraj_pigeonsai.com:490d871a-9181-44d5-ad38-9406ae71a692',\n",
    "    file_path=\"/home/bs/aaProjects/sdk/demo/user_product_purchases.csv\",\n",
    ")"
   ]
  },
  {
   "cell_type": "code",
   "execution_count": null,
   "metadata": {},
   "outputs": [],
   "source": [
    "client.data_connector.delete_train_set(\n",
    "    train_dataset_uri='uri:train-dataset:biraj_pigeonsai.com:a4582687-abea-432b-8302-ed7e9068e395',\n",
    ")"
   ]
  },
  {
   "cell_type": "code",
   "execution_count": null,
   "metadata": {},
   "outputs": [],
   "source": [
    "client.data_connector.delete_data_connector(\n",
    "    data_connector_uri='uri:data-connector:biraj_pigeonsai.com:45430852-81d1-4142-b04d-329af480b03b',\n",
    ")"
   ]
  }
 ],
 "metadata": {
  "kernelspec": {
   "display_name": "base",
   "language": "python",
   "name": "python3"
  },
  "language_info": {
   "codemirror_mode": {
    "name": "ipython",
    "version": 3
   },
   "file_extension": ".py",
   "mimetype": "text/x-python",
   "name": "python",
   "nbconvert_exporter": "python",
   "pygments_lexer": "ipython3",
   "version": "3.10.12"
  }
 },
 "nbformat": 4,
 "nbformat_minor": 2
}
