{
 "cells": [
  {
   "cell_type": "markdown",
   "metadata": {},
   "source": [
    "### Initialization"
   ]
  },
  {
   "cell_type": "code",
   "execution_count": 1,
   "metadata": {},
   "outputs": [],
   "source": [
    "# import sys\n",
    "# sys.path.append('../python/src') \n",
    "\n",
    "from pigeonsai import PigeonsAI\n",
    "client = PigeonsAI(api_key='psk-3d056be691294274a05dc824789edf76')"
   ]
  },
  {
   "cell_type": "markdown",
   "metadata": {},
   "source": [
    "### Step 1 - Data preparation"
   ]
  },
  {
   "cell_type": "markdown",
   "metadata": {},
   "source": [
    "Option 1: data connection"
   ]
  },
  {
   "cell_type": "code",
   "execution_count": null,
   "metadata": {},
   "outputs": [],
   "source": [
    "res = client.data_connector.create_connector(\n",
    "    connection_name=\"conn17\",\n",
    "    connection_type=\"postgres\",\n",
    "    db_host='training.crg3mfkamsv8.us-east-2.rds.amazonaws.com',\n",
    "    db_name=\"training\",\n",
    "    db_username=\"postgres\",\n",
    "    db_password=\"default_password\",\n",
    "    db_port=5432\n",
    ")"
   ]
  },
  {
   "cell_type": "code",
   "execution_count": 5,
   "metadata": {},
   "outputs": [
    {
     "name": "stdout",
     "output_type": "stream",
     "text": [
      "\u001b[38;2;85;87;93m Train set creation successful:\u001b[0m \u001b[92m201 Created\u001b[0m\n",
      "\u001b[38;2;85;87;93m Train set URI:\u001b[0m \u001b[92muri:train-dataset:biraj_pigeonsai.com:b1ccc16d-9b3d-4972-a4f6-4f422326110f\u001b[0m\n"
     ]
    }
   ],
   "source": [
    "res = client.data_connector.create_train_set(\n",
    "    type='connection',\n",
    "    train_set_name='data37',\n",
    "    data_connection_uri='uri:data-connector:biraj_pigeonsai.com:d729dd97-8727-41c1-a6ab-33dd9b85f059',\n",
    "    table_name='rec-test-1',\n",
    "    columns_map={\n",
    "        'user_id': 'my_user_id',\n",
    "        'product_id': 'my_product_id',\n",
    "    }\n",
    ")"
   ]
  },
  {
   "cell_type": "markdown",
   "metadata": {},
   "source": [
    "Option 2: upload file"
   ]
  },
  {
   "cell_type": "code",
   "execution_count": 8,
   "metadata": {},
   "outputs": [
    {
     "name": "stdout",
     "output_type": "stream",
     "text": [
      "\u001b[38;2;85;87;93m Train set creation successful:\u001b[0m \u001b[92m201 Created\u001b[0m\n",
      "\u001b[38;2;85;87;93m Train set URI:\u001b[0m \u001b[92muri:train-dataset:biraj_pigeonsai.com:8371e904-5c8a-4454-8b0b-d0dd022af75c\u001b[0m\n"
     ]
    }
   ],
   "source": [
    "res = client.data_connector.create_train_set(\n",
    "    type='file',\n",
    "    train_set_name='dataset37',\n",
    "    file_path='/home/bs/aaProjects/sdk/demo/user_product_purchases.csv',\n",
    "    columns_map={\n",
    "        'user_id': 'my_user_id',\n",
    "        'product_id': 'my_product_id'\n",
    "    }\n",
    ")"
   ]
  },
  {
   "cell_type": "markdown",
   "metadata": {},
   "source": [
    "### Step 2 - Train model"
   ]
  },
  {
   "cell_type": "code",
   "execution_count": 6,
   "metadata": {},
   "outputs": [
    {
     "name": "stdout",
     "output_type": "stream",
     "text": [
      "\u001b[38;2;229;192;108m      Initializing test-model-21 training \u001b[0m\n",
      "\u001b[38;2;85;87;93m Training job creation successful.\u001b[0m\n",
      "\u001b[38;2;85;87;93m Unique Identifier:\u001b[0m \u001b[92mtest-model-21-59lyphmg\u001b[0m\n",
      "\u001b[38;2;85;87;93m Endpoint:\u001b[0m \u001b[92mhttps://test-model-21-59lyphmg.apps.api1.pigeonsai.cloud\u001b[0m\n",
      "\u001b[38;2;85;87;93m Message:\u001b[0m \u001b[92mModel is training. It could take a while.\u001b[0m\n"
     ]
    }
   ],
   "source": [
    "# autoencoder model\n",
    "training_params = {\n",
    "    'custom_model_name': 'test-model-21',\n",
    "    'train_set_uri': 'uri:train-dataset:biraj_pigeonsai.com:b1ccc16d-9b3d-4972-a4f6-4f422326110f',\n",
    "    'n_epochs': '1',\n",
    "    'batch_size': '100',\n",
    "    'learn_rate': '1e-3',\n",
    "    'data_subset_percent': '1',\n",
    "}\n",
    "\n",
    "res = client.recommender.vae.train(**training_params)"
   ]
  },
  {
   "cell_type": "markdown",
   "metadata": {},
   "source": [
    "#### Step 3 - Inference"
   ]
  },
  {
   "cell_type": "code",
   "execution_count": 7,
   "metadata": {},
   "outputs": [
    {
     "name": "stdout",
     "output_type": "stream",
     "text": [
      "{'recommendations': [{'id': '801194', 'score': 0.5}, {'id': '801204', 'score': 0.5}, {'id': '829928', 'score': 0.5}, {'id': '801192', 'score': 0.5}, {'id': '801196', 'score': 0.5}], 'message': 'None of the provided IDs were found in the map. Recommending popular items.'}\n"
     ]
    }
   ],
   "source": [
    "user_history = ['9834171', '9801194']\n",
    "res = client.recommender.vae.inference(\n",
    "    user_history_ids=user_history,\n",
    "    k=5,\n",
    "    model_uri='https://test-model-21-59lyphmg.apps.api1.pigeonsai.cloud'\n",
    ")\n",
    "print(res)"
   ]
  },
  {
   "cell_type": "markdown",
   "metadata": {},
   "source": [
    "### Transformer"
   ]
  },
  {
   "cell_type": "code",
   "execution_count": null,
   "metadata": {},
   "outputs": [],
   "source": [
    "training_params = {\n",
    "    'custom_model_name': 'model5',\n",
    "    'train_set_uri': 'uri:train-dataset:biraj_pigeonsai.com:cebc0ccc-4a8f-4cb6-bb4d-0b6151675902',\n",
    "    'n_epochs': '1',\n",
    "    'batch_size': '100',\n",
    "    'learn_rate': '1e-3',\n",
    "}\n",
    "\n",
    "res = client.recommender.transformer.train(**training_params)"
   ]
  },
  {
   "cell_type": "code",
   "execution_count": null,
   "metadata": {},
   "outputs": [],
   "source": [
    "res = client.recommender.transformer.inference(\n",
    "    user_id=\"A3NHUQ33CFH3VM\",\n",
    "    k=5,\n",
    "    model_uri='https://model5-0foyi5hx.apps.api1.pigeonsai.cloud'\n",
    ")\n",
    "print(res)"
   ]
  },
  {
   "cell_type": "markdown",
   "metadata": {},
   "source": [
    "### Other methods"
   ]
  },
  {
   "cell_type": "code",
   "execution_count": 5,
   "metadata": {},
   "outputs": [
    {
     "name": "stdout",
     "output_type": "stream",
     "text": [
      "\u001b[38;2;229;192;108m Initializing test-model-21-59lyphmg re-training \u001b[0m\n",
      "\u001b[38;2;85;87;93m Re-training job creation successful.\u001b[0m\n",
      "\u001b[38;2;85;87;93m Detail:\u001b[0m \u001b[92mRetraining inprogress.\u001b[0m\n"
     ]
    }
   ],
   "source": [
    "res = client.recommender.vae.retrain(\n",
    "    unique_identifier=\"test-model-21-59lyphmg\",\n",
    "    pull_latest_data=True,\n",
    ")"
   ]
  },
  {
   "cell_type": "code",
   "execution_count": 9,
   "metadata": {},
   "outputs": [
    {
     "name": "stdout",
     "output_type": "stream",
     "text": [
      "\u001b[38;2;85;87;93m Train set creation successful:\u001b[0m \u001b[92m201 Created\u001b[0m\n",
      "\u001b[38;2;85;87;93m Train set URI:\u001b[0m \u001b[92muri:train-dataset:biraj_pigeonsai.com:b1ccc16d-9b3d-4972-a4f6-4f422326110f\u001b[0m\n"
     ]
    }
   ],
   "source": [
    "res = client.data_connector.revision_train_set_with_connector(\n",
    "    train_set_uri='uri:train-dataset:biraj_pigeonsai.com:b1ccc16d-9b3d-4972-a4f6-4f422326110f',\n",
    ")"
   ]
  },
  {
   "cell_type": "code",
   "execution_count": null,
   "metadata": {},
   "outputs": [],
   "source": [
    "client.data_connector.revision_train_set_with_file(\n",
    "    train_set_uri='uri:train-dataset:biraj_pigeonsai.com:490d871a-9181-44d5-ad38-9406ae71a692',\n",
    "    file_path=\"/home/bs/aaProjects/sdk/demo/user_product_purchases.csv\",\n",
    ")"
   ]
  },
  {
   "cell_type": "code",
   "execution_count": null,
   "metadata": {},
   "outputs": [],
   "source": [
    "client.data_connector.delete_train_set(\n",
    "    train_dataset_uri='uri:train-dataset:biraj_pigeonsai.com:a4582687-abea-432b-8302-ed7e9068e395',\n",
    ")"
   ]
  },
  {
   "cell_type": "code",
   "execution_count": null,
   "metadata": {},
   "outputs": [],
   "source": [
    "client.data_connector.delete_data_connector(\n",
    "    data_connector_uri='uri:data-connector:biraj_pigeonsai.com:45430852-81d1-4142-b04d-329af480b03b',\n",
    ")"
   ]
  }
 ],
 "metadata": {
  "kernelspec": {
   "display_name": "base",
   "language": "python",
   "name": "python3"
  },
  "language_info": {
   "codemirror_mode": {
    "name": "ipython",
    "version": 3
   },
   "file_extension": ".py",
   "mimetype": "text/x-python",
   "name": "python",
   "nbconvert_exporter": "python",
   "pygments_lexer": "ipython3",
   "version": "3.10.12"
  }
 },
 "nbformat": 4,
 "nbformat_minor": 2
}
