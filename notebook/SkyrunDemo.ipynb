{
 "cells": [
  {
   "cell_type": "markdown",
   "metadata": {},
   "source": [
    "### Initialization"
   ]
  },
  {
   "cell_type": "code",
   "execution_count": 1,
   "metadata": {},
   "outputs": [],
   "source": [
    "import sys\n",
    "sys.path.append('../python/src')\n",
    "\n",
    "from pigeonsai import PigeonsAI\n",
    "client = PigeonsAI(api_key='psk-3d056be691294274a05dc824789edf76')"
   ]
  },
  {
   "cell_type": "markdown",
   "metadata": {},
   "source": [
    "### Step 1 - Data preparation"
   ]
  },
  {
   "cell_type": "markdown",
   "metadata": {},
   "source": [
    "Option 1: data connection"
   ]
  },
  {
   "cell_type": "code",
   "execution_count": 2,
   "metadata": {},
   "outputs": [
    {
     "name": "stdout",
     "output_type": "stream",
     "text": [
      "\u001b[38;2;85;87;93m Connector creation successful:\u001b[0m \u001b[92m201 Created\u001b[0m\n",
      "\u001b[38;2;85;87;93m Data connector URI:\u001b[0m \u001b[92muri:data-connector:biraj_pigeonsai.com:e3abd1ed-a5fc-4fc4-9f71-7fa98acf0c6d\u001b[0m\n"
     ]
    }
   ],
   "source": [
    "res = client.data_connector.create_connector(\n",
    "    connection_name=\"test_data_connection_2\",\n",
    "    connection_type=\"postgres\",\n",
    "    db_host='training.crg3mfkamsv8.us-east-2.rds.amazonaws.com',\n",
    "    db_name=\"training\",\n",
    "    db_username=\"postgres\",\n",
    "    db_password=\"default_password\",\n",
    "    db_port=5432\n",
    ")"
   ]
  },
  {
   "cell_type": "code",
   "execution_count": 7,
   "metadata": {},
   "outputs": [
    {
     "name": "stdout",
     "output_type": "stream",
     "text": [
      "\u001b[38;2;85;87;93m Train set creation successful:\u001b[0m \u001b[92m201 Created\u001b[0m\n",
      "\u001b[38;2;85;87;93m Train set URI:\u001b[0m \u001b[92muri:train-dataset:biraj_pigeonsai.com:e4ea4bf7-d6a0-4af7-91e3-5b98d126d6eb\u001b[0m\n"
     ]
    }
   ],
   "source": [
    "res = client.data_connector.create_train_set(\n",
    "    type='connection',\n",
    "    train_set_name='test_train_dataset_1',\n",
    "    data_connection_uri='uri:data-connector:biraj_pigeonsai.com:e3abd1ed-a5fc-4fc4-9f71-7fa98acf0c6d',\n",
    "    table_name='rec-test-1',\n",
    "    columns_map={\n",
    "        'user_id': 'my_user_id',\n",
    "        'product_id': 'my_product_id',\n",
    "    }\n",
    ")"
   ]
  },
  {
   "cell_type": "markdown",
   "metadata": {},
   "source": [
    "Option 2: upload file"
   ]
  },
  {
   "cell_type": "code",
   "execution_count": 9,
   "metadata": {},
   "outputs": [
    {
     "name": "stdout",
     "output_type": "stream",
     "text": [
      "\u001b[38;2;85;87;93m Train set creation successful:\u001b[0m \u001b[92m201 Created\u001b[0m\n",
      "\u001b[38;2;85;87;93m Train set URI:\u001b[0m \u001b[92muri:train-dataset:biraj_pigeonsai.com:cc6a5a0a-d2e9-42ee-bebe-bd79c8a8c027\u001b[0m\n"
     ]
    }
   ],
   "source": [
    "res = client.data_connector.create_train_set(\n",
    "    type='file',\n",
    "    train_set_name='test_train_dataset_2',\n",
    "    file_path='/home/bs/aaProjects/sdk/demo/user_product_purchases.csv',\n",
    "    columns_map={\n",
    "        'user_id': 'my_user_id',\n",
    "        'product_id': 'my_product_id'\n",
    "    }\n",
    ")"
   ]
  },
  {
   "cell_type": "markdown",
   "metadata": {},
   "source": [
    "### Step 2 - Train model"
   ]
  },
  {
   "cell_type": "code",
   "execution_count": 10,
   "metadata": {},
   "outputs": [
    {
     "name": "stdout",
     "output_type": "stream",
     "text": [
      "\u001b[38;2;229;192;108m      Initializing test-model-1 training \u001b[0m\n",
      "\u001b[38;2;85;87;93m Training job creation successful.\u001b[0m\n",
      "\u001b[38;2;85;87;93m Unique Identifier:\u001b[0m \u001b[92mtest-model-1-jr1rnl80\u001b[0m\n",
      "\u001b[38;2;85;87;93m Endpoint:\u001b[0m \u001b[92mhttps://test-model-1-jr1rnl80.apps.api1.pigeonsai.cloud\u001b[0m\n",
      "\u001b[38;2;85;87;93m Message:\u001b[0m \u001b[92mModel is training. It could take a while.\u001b[0m\n"
     ]
    }
   ],
   "source": [
    "# autoencoder model\n",
    "training_params = {\n",
    "    'custom_model_name': 'test-model-1',\n",
    "    'train_set_uri': 'uri:train-dataset:biraj_pigeonsai.com:e4ea4bf7-d6a0-4af7-91e3-5b98d126d6eb',\n",
    "    'n_epochs': '1',\n",
    "    'batch_size': '100',\n",
    "    'learn_rate': '1e-3',\n",
    "    'data_subset_percent': '1',\n",
    "}\n",
    "\n",
    "res = client.recommender.vae.train(**training_params)"
   ]
  },
  {
   "cell_type": "code",
   "execution_count": 13,
   "metadata": {},
   "outputs": [
    {
     "name": "stdout",
     "output_type": "stream",
     "text": [
      "\u001b[38;2;85;87;93m Train set new revision creation successful:\u001b[0m \u001b[92m201 Created\u001b[0m\n",
      "\u001b[38;2;85;87;93m Train set URI:\u001b[0m \u001b[92muri:train-dataset:biraj_pigeonsai.com:cc6a5a0a-d2e9-42ee-bebe-bd79c8a8c027\u001b[0m\n"
     ]
    },
    {
     "data": {
      "text/plain": [
       "{'train_set_uri': 'uri:train-dataset:biraj_pigeonsai.com:cc6a5a0a-d2e9-42ee-bebe-bd79c8a8c027'}"
      ]
     },
     "execution_count": 13,
     "metadata": {},
     "output_type": "execute_result"
    }
   ],
   "source": [
    "res = client.data_connector.revision_train_set_with_file(\n",
    "    train_set_uri='uri:train-dataset:biraj_pigeonsai.com:cc6a5a0a-d2e9-42ee-bebe-bd79c8a8c027',\n",
    "    file_path=\"/home/bs/aaProjects/sdk/demo/user_product_purchases9.csv\",\n",
    ")"
   ]
  },
  {
   "cell_type": "code",
   "execution_count": null,
   "metadata": {},
   "outputs": [],
   "source": [
    "client.data_connector.delete_train_set(\n",
    "    train_dataset_uri='uri:train-dataset:biraj_pigeonsai.com:a4582687-abea-432b-8302-ed7e9068e395',\n",
    ")"
   ]
  },
  {
   "cell_type": "code",
   "execution_count": null,
   "metadata": {},
   "outputs": [],
   "source": [
    "client.data_connector.delete_data_connector(\n",
    "    data_connector_uri='uri:data-connector:biraj_pigeonsai.com:45430852-81d1-4142-b04d-329af480b03b',\n",
    ")"
   ]
  }
 ],
 "metadata": {
  "kernelspec": {
   "display_name": "base",
   "language": "python",
   "name": "python3"
  },
  "language_info": {
   "codemirror_mode": {
    "name": "ipython",
    "version": 3
   },
   "file_extension": ".py",
   "mimetype": "text/x-python",
   "name": "python",
   "nbconvert_exporter": "python",
   "pygments_lexer": "ipython3",
   "version": "3.10.12"
  }
 },
 "nbformat": 4,
 "nbformat_minor": 2
}
