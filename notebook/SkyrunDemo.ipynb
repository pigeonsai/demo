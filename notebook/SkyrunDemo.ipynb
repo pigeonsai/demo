{
 "cells": [
  {
   "cell_type": "markdown",
   "metadata": {},
   "source": [
    "### Initialization"
   ]
  },
  {
   "cell_type": "code",
   "execution_count": 3,
   "metadata": {},
   "outputs": [],
   "source": [
    "import sys\n",
    "sys.path.append('../python/src')\n",
    "\n",
    "from pigeonsai import PigeonsAI\n",
    "client = PigeonsAI(api_key='psk-3e2ba6b301bc448b911f75d351e902ec')"
   ]
  },
  {
   "cell_type": "markdown",
   "metadata": {},
   "source": [
    "### Step 1 - Data preparation"
   ]
  },
  {
   "cell_type": "markdown",
   "metadata": {},
   "source": [
    "Option 1: data connection"
   ]
  },
  {
   "cell_type": "code",
   "execution_count": null,
   "metadata": {},
   "outputs": [],
   "source": [
    "res = client.data_connector.create_connector(\n",
    "    connection_name=\"conn12\",\n",
    "    connection_type=\"postgres\",\n",
    "    db_host='training.crg3mfkamsv8.us-east-2.rds.amazonaws.com',\n",
    "    db_name=\"training\",\n",
    "    db_username=\"postgres\",\n",
    "    db_password=\"default_password\",\n",
    "    db_port=5432\n",
    ")"
   ]
  },
  {
   "cell_type": "code",
   "execution_count": 2,
   "metadata": {},
   "outputs": [
    {
     "name": "stdout",
     "output_type": "stream",
     "text": [
      "\u001b[38;2;85;87;93m Train set creation successful:\u001b[0m \u001b[92m201 Created\u001b[0m\n",
      "\u001b[38;2;85;87;93m Train set URI:\u001b[0m \u001b[92mpri:data-source:biraj_pigeonsai.com:4bc83978-f281-4163-a80d-4277a23fc224\u001b[0m\n"
     ]
    }
   ],
   "source": [
    "res = client.data_connector.create_train_set(\n",
    "    type='connection',\n",
    "    train_set_name='data18',\n",
    "    data_connection_uri='uri:data-connector:biraj_pigeonsai.com:9ff2c59a-07e2-4fa9-97aa-5e22f6c631f7',\n",
    "    table_name='rec-test-1'\n",
    ")"
   ]
  },
  {
   "cell_type": "markdown",
   "metadata": {},
   "source": [
    "Option 2: upload file"
   ]
  },
  {
   "cell_type": "code",
   "execution_count": null,
   "metadata": {},
   "outputs": [],
   "source": [
    "res = client.data_connector.create_train_set(\n",
    "    type='file',\n",
    "    train_set_name='dataset17',\n",
    "    file_path='/home/bs/aaProjects/sdk/demo/user_product_purchases.csv',\n",
    ")"
   ]
  },
  {
   "cell_type": "markdown",
   "metadata": {},
   "source": [
    "### Step 2 - Train model"
   ]
  },
  {
   "cell_type": "code",
   "execution_count": 3,
   "metadata": {},
   "outputs": [
    {
     "name": "stdout",
     "output_type": "stream",
     "text": [
      "\u001b[38;2;229;192;108m      Initializing test-model-12 training \u001b[0m\n",
      "\u001b[38;2;85;87;93m Training job creation successful.\u001b[0m\n",
      "\u001b[38;2;85;87;93m Unique Identifier:\u001b[0m \u001b[92mtest-model-12-gkf5lfrg\u001b[0m\n",
      "\u001b[38;2;85;87;93m Endpoint:\u001b[0m \u001b[92mhttps://test-model-12-gkf5lfrg.apps.api1.pigeonsai.cloud\u001b[0m\n",
      "\u001b[38;2;85;87;93m Message:\u001b[0m \u001b[92mModel is training. It could take a while.\u001b[0m\n"
     ]
    }
   ],
   "source": [
    "# autoencoder model\n",
    "training_params = {\n",
    "    'custom_model_name': 'test-model-12',\n",
    "    'train_set_uri': 'uri:train-dataset:biraj_pigeonsai.com:4bc83978-f281-4163-a80d-4277a23fc224',\n",
    "    'n_epochs': '1',\n",
    "    'batch_size': '100',\n",
    "    'learn_rate': '1e-3',\n",
    "    'data_subset_percent': '1',\n",
    "}\n",
    "\n",
    "res = client.recommender.vae.train(**training_params)"
   ]
  },
  {
   "cell_type": "markdown",
   "metadata": {},
   "source": [
    "#### Step 3 - Inference"
   ]
  },
  {
   "cell_type": "code",
   "execution_count": 10,
   "metadata": {},
   "outputs": [
    {
     "name": "stdout",
     "output_type": "stream",
     "text": [
      "['801192', '834171', '801194', '801208', '814360']\n"
     ]
    }
   ],
   "source": [
    "user_history = ['834171', '801194']\n",
    "res = client.recommender.vae.inference(\n",
    "    user_history_ids=user_history,\n",
    "    k=5,\n",
    "    model_uri='https://test-model-12-gkf5lfrg.apps.api1.pigeonsai.cloud'\n",
    ")\n",
    "print(res)"
   ]
  },
  {
   "cell_type": "markdown",
   "metadata": {},
   "source": [
    "### Transformer"
   ]
  },
  {
   "cell_type": "code",
   "execution_count": null,
   "metadata": {},
   "outputs": [],
   "source": [
    "training_params = {\n",
    "    'custom_model_name': 'model5',\n",
    "    'train_set_uri': 'uri:train-dataset:biraj_pigeonsai.com:cebc0ccc-4a8f-4cb6-bb4d-0b6151675902',\n",
    "    'n_epochs': '1',\n",
    "    'batch_size': '100',\n",
    "    'learn_rate': '1e-3',\n",
    "}\n",
    "\n",
    "res = client.recommender.transformer.train(**training_params)"
   ]
  },
  {
   "cell_type": "code",
   "execution_count": null,
   "metadata": {},
   "outputs": [],
   "source": [
    "res = client.recommender.transformer.inference(\n",
    "    user_id=\"A3NHUQ33CFH3VM\",\n",
    "    k=5,\n",
    "    model_uri='https://model5-0foyi5hx.apps.api1.pigeonsai.cloud'\n",
    ")\n",
    "print(res)"
   ]
  },
  {
   "cell_type": "markdown",
   "metadata": {},
   "source": [
    "### Other methods"
   ]
  },
  {
   "cell_type": "code",
   "execution_count": 7,
   "metadata": {},
   "outputs": [],
   "source": [
    "res = client.recommender.vae.retrain(\n",
    "    unique_identifier=\"test-model-12-gkf5lfrg\",\n",
    "    pull_latest_data=True,\n",
    ")"
   ]
  },
  {
   "cell_type": "code",
   "execution_count": null,
   "metadata": {},
   "outputs": [],
   "source": [
    "res = client.data_connector.revision_train_set_with_connector(\n",
    "    train_set_uri='uri:train-dataset:biraj_pigeonsai.com:3ecc7b98-961f-43b1-8c9a-dd82ab580621',\n",
    ")"
   ]
  },
  {
   "cell_type": "code",
   "execution_count": null,
   "metadata": {},
   "outputs": [],
   "source": [
    "client.data_connector.revision_train_set_with_file(\n",
    "    train_set_uri='uri:train-dataset:biraj_pigeonsai.com:b46befc1-f66f-4a34-93be-50e01f64513d',\n",
    "    file_path=\"/home/bs/aaProjects/sdk/demo/user_product_purchases.csv\",\n",
    ")"
   ]
  },
  {
   "cell_type": "code",
   "execution_count": null,
   "metadata": {},
   "outputs": [],
   "source": [
    "client.data_connector.delete_train_set(\n",
    "    train_dataset_uri='uri:train-dataset:biraj_pigeonsai.com:a4582687-abea-432b-8302-ed7e9068e395',\n",
    ")"
   ]
  },
  {
   "cell_type": "code",
   "execution_count": null,
   "metadata": {},
   "outputs": [],
   "source": [
    "client.data_connector.delete_data_connector(\n",
    "    data_connector_uri='uri:data-connector:biraj_pigeonsai.com:45430852-81d1-4142-b04d-329af480b03b',\n",
    ")"
   ]
  }
 ],
 "metadata": {
  "kernelspec": {
   "display_name": "base",
   "language": "python",
   "name": "python3"
  },
  "language_info": {
   "codemirror_mode": {
    "name": "ipython",
    "version": 3
   },
   "file_extension": ".py",
   "mimetype": "text/x-python",
   "name": "python",
   "nbconvert_exporter": "python",
   "pygments_lexer": "ipython3",
   "version": "3.10.12"
  }
 },
 "nbformat": 4,
 "nbformat_minor": 2
}
